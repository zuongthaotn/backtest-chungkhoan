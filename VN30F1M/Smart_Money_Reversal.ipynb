{
 "cells": [
  {
   "cell_type": "markdown",
   "id": "3bb3aa97-7914-4430-8beb-3faa67ba7dad",
   "metadata": {},
   "source": [
    "# Smart_Money_Reversal by GPT - Strategy - Backtesting "
   ]
  },
  {
   "cell_type": "markdown",
   "id": "b4a3e1b0-889f-40f5-bfe1-ca5391c2a7ba",
   "metadata": {},
   "source": [
    "### Import Library"
   ]
  },
  {
   "cell_type": "code",
   "execution_count": 61,
   "id": "8ed51685-7682-46ce-9ab2-df7a6f6937c5",
   "metadata": {},
   "outputs": [],
   "source": [
    "import numpy as np\n",
    "import pandas as pd\n",
    "import numpy as np\n",
    "import pandas_ta as ta\n",
    "from backtesting.backtesting import Backtest, Strategy\n",
    "# from backtesting._plotting import set_bokeh_output\n",
    "# set_bokeh_output(notebook=False)\n",
    "\n",
    "import matplotlib.pyplot as plt\n",
    "plt.rcParams['figure.figsize'] = [12, 6]\n",
    "plt.rcParams['figure.dpi'] = 120\n",
    "import warnings\n",
    "warnings.filterwarnings('ignore')"
   ]
  },
  {
   "cell_type": "markdown",
   "id": "fe85b31e-7106-4979-aba2-03093ade02ca",
   "metadata": {},
   "source": [
    "### Load Price Data"
   ]
  },
  {
   "cell_type": "code",
   "execution_count": 62,
   "id": "0f3bf6f4-aeb4-404e-932a-9afef6ea370a",
   "metadata": {},
   "outputs": [],
   "source": [
    "import os\n",
    "from pathlib import Path\n",
    "notebook_path = os.getcwd()\n",
    "algo_dir = Path(notebook_path).parent.parent\n",
    "csv_file = str(algo_dir) + '/vn-stock-data/VN30ps/VN30F1M_5minutes.csv'\n",
    "is_file = os.path.isfile(csv_file)\n",
    "if is_file:\n",
    "    dataset = pd.read_csv(csv_file, index_col='Date', parse_dates=True)\n",
    "else:\n",
    "    print('remote')\n",
    "    dataset = pd.read_csv(\"https://raw.githubusercontent.com/zuongthaotn/vn-stock-data/main/VN30ps/VN30F1M_5minutes.csv\", index_col='Date', parse_dates=True)"
   ]
  },
  {
   "cell_type": "code",
   "execution_count": 63,
   "id": "eff99ef6-2921-4245-b40d-eb6ecee0bc12",
   "metadata": {},
   "outputs": [],
   "source": [
    "data = dataset.copy()"
   ]
  },
  {
   "cell_type": "code",
   "execution_count": 64,
   "id": "792b70e1-b011-4e02-a9b5-3ab78caa2815",
   "metadata": {},
   "outputs": [],
   "source": [
    "data = data[data.index > '2020-11-01 00:00:00']\n",
    "# data = data[(data.index > '2020-11-01 00:00:00') & (data.index < '2024-10-01 00:00:00')]\n",
    "# data = data[data.index > '2024-11-01 00:00:00']"
   ]
  },
  {
   "cell_type": "code",
   "execution_count": 65,
   "id": "1fd3b0e4-aa77-43b7-b9c3-39a0fbf1e690",
   "metadata": {},
   "outputs": [
    {
     "data": {
      "text/html": [
       "<div>\n",
       "<style scoped>\n",
       "    .dataframe tbody tr th:only-of-type {\n",
       "        vertical-align: middle;\n",
       "    }\n",
       "\n",
       "    .dataframe tbody tr th {\n",
       "        vertical-align: top;\n",
       "    }\n",
       "\n",
       "    .dataframe thead th {\n",
       "        text-align: right;\n",
       "    }\n",
       "</style>\n",
       "<table border=\"1\" class=\"dataframe\">\n",
       "  <thead>\n",
       "    <tr style=\"text-align: right;\">\n",
       "      <th></th>\n",
       "      <th>Open</th>\n",
       "      <th>High</th>\n",
       "      <th>Low</th>\n",
       "      <th>Close</th>\n",
       "      <th>Volume</th>\n",
       "    </tr>\n",
       "    <tr>\n",
       "      <th>Date</th>\n",
       "      <th></th>\n",
       "      <th></th>\n",
       "      <th></th>\n",
       "      <th></th>\n",
       "      <th></th>\n",
       "    </tr>\n",
       "  </thead>\n",
       "  <tbody>\n",
       "    <tr>\n",
       "      <th>2020-11-02 09:00:00</th>\n",
       "      <td>900.1</td>\n",
       "      <td>900.2</td>\n",
       "      <td>899.3</td>\n",
       "      <td>900.1</td>\n",
       "      <td>1910</td>\n",
       "    </tr>\n",
       "    <tr>\n",
       "      <th>2020-11-02 09:05:00</th>\n",
       "      <td>900.2</td>\n",
       "      <td>900.2</td>\n",
       "      <td>898.7</td>\n",
       "      <td>899.4</td>\n",
       "      <td>1670</td>\n",
       "    </tr>\n",
       "    <tr>\n",
       "      <th>2020-11-02 09:10:00</th>\n",
       "      <td>899.5</td>\n",
       "      <td>900.0</td>\n",
       "      <td>899.0</td>\n",
       "      <td>899.5</td>\n",
       "      <td>1329</td>\n",
       "    </tr>\n",
       "    <tr>\n",
       "      <th>2020-11-02 09:15:00</th>\n",
       "      <td>899.4</td>\n",
       "      <td>899.5</td>\n",
       "      <td>898.2</td>\n",
       "      <td>898.6</td>\n",
       "      <td>1722</td>\n",
       "    </tr>\n",
       "    <tr>\n",
       "      <th>2020-11-02 09:20:00</th>\n",
       "      <td>898.5</td>\n",
       "      <td>898.6</td>\n",
       "      <td>896.5</td>\n",
       "      <td>898.2</td>\n",
       "      <td>2939</td>\n",
       "    </tr>\n",
       "    <tr>\n",
       "      <th>...</th>\n",
       "      <td>...</td>\n",
       "      <td>...</td>\n",
       "      <td>...</td>\n",
       "      <td>...</td>\n",
       "      <td>...</td>\n",
       "    </tr>\n",
       "    <tr>\n",
       "      <th>2025-02-25 14:15:00</th>\n",
       "      <td>1358.4</td>\n",
       "      <td>1360.8</td>\n",
       "      <td>1358.2</td>\n",
       "      <td>1360.5</td>\n",
       "      <td>6708</td>\n",
       "    </tr>\n",
       "    <tr>\n",
       "      <th>2025-02-25 14:20:00</th>\n",
       "      <td>1360.3</td>\n",
       "      <td>1362.1</td>\n",
       "      <td>1359.4</td>\n",
       "      <td>1361.0</td>\n",
       "      <td>7025</td>\n",
       "    </tr>\n",
       "    <tr>\n",
       "      <th>2025-02-25 14:25:00</th>\n",
       "      <td>1361.0</td>\n",
       "      <td>1362.2</td>\n",
       "      <td>1360.8</td>\n",
       "      <td>1361.7</td>\n",
       "      <td>4896</td>\n",
       "    </tr>\n",
       "    <tr>\n",
       "      <th>2025-02-25 14:30:00</th>\n",
       "      <td>1362.0</td>\n",
       "      <td>1362.0</td>\n",
       "      <td>1361.8</td>\n",
       "      <td>1361.8</td>\n",
       "      <td>180</td>\n",
       "    </tr>\n",
       "    <tr>\n",
       "      <th>2025-02-25 14:45:00</th>\n",
       "      <td>1359.8</td>\n",
       "      <td>1359.8</td>\n",
       "      <td>1359.8</td>\n",
       "      <td>1359.8</td>\n",
       "      <td>4885</td>\n",
       "    </tr>\n",
       "  </tbody>\n",
       "</table>\n",
       "<p>54839 rows × 5 columns</p>\n",
       "</div>"
      ],
      "text/plain": [
       "                       Open    High     Low   Close  Volume\n",
       "Date                                                       \n",
       "2020-11-02 09:00:00   900.1   900.2   899.3   900.1    1910\n",
       "2020-11-02 09:05:00   900.2   900.2   898.7   899.4    1670\n",
       "2020-11-02 09:10:00   899.5   900.0   899.0   899.5    1329\n",
       "2020-11-02 09:15:00   899.4   899.5   898.2   898.6    1722\n",
       "2020-11-02 09:20:00   898.5   898.6   896.5   898.2    2939\n",
       "...                     ...     ...     ...     ...     ...\n",
       "2025-02-25 14:15:00  1358.4  1360.8  1358.2  1360.5    6708\n",
       "2025-02-25 14:20:00  1360.3  1362.1  1359.4  1361.0    7025\n",
       "2025-02-25 14:25:00  1361.0  1362.2  1360.8  1361.7    4896\n",
       "2025-02-25 14:30:00  1362.0  1362.0  1361.8  1361.8     180\n",
       "2025-02-25 14:45:00  1359.8  1359.8  1359.8  1359.8    4885\n",
       "\n",
       "[54839 rows x 5 columns]"
      ]
     },
     "execution_count": 65,
     "metadata": {},
     "output_type": "execute_result"
    }
   ],
   "source": [
    "data"
   ]
  },
  {
   "cell_type": "code",
   "execution_count": 66,
   "id": "700405f0-1120-4943-b035-44044a52fcc2",
   "metadata": {},
   "outputs": [],
   "source": [
    "def prepare_data(df):\n",
    "    df['Liquidity_Grab'] = (df['High'] > df['High'].shift(1)) & (df['Close'] < df['Open'])\n",
    "    df['Hidden_Liquidity_Absorption'] = (df['Volume'] > df['Volume'].rolling(10).mean() * 1.3) & (df['Close'].shift(1) > df['Close'])\n",
    "    df['SM_Reversal_to_short'] = df['Liquidity_Grab'] & df['Hidden_Liquidity_Absorption'] & (df['Close'].shift(-1) < df['Open'].shift(-1)) & (df['Volume'] > df['Volume'].shift(1) * 0.8)\n",
    "    #\n",
    "    df['Liquidity_Grab2'] = (df['Low'] < df['Low'].shift(1)) & (df['Close'] > df['Open'])\n",
    "    df['Hidden_Liquidity_Absorption2'] = (df['Volume'] > df['Volume'].rolling(10).mean() * 1.3) & (df['Close'].shift(1) < df['Close'])\n",
    "    df['SM_Reversal_to_long'] = df['Liquidity_Grab2'] & df['Hidden_Liquidity_Absorption2'] & (df['Close'].shift(-1) > df['Open'].shift(-1)) & (df['Volume'] > df['Volume'].shift(1) * 0.8)\n",
    "    return df"
   ]
  },
  {
   "cell_type": "code",
   "execution_count": 67,
   "id": "55834e45-8b05-428c-a8a2-9bf92cb75fe7",
   "metadata": {},
   "outputs": [],
   "source": [
    "prepared_data = prepare_data(data)\n",
    "prepared_data.dropna(inplace=True)"
   ]
  },
  {
   "cell_type": "code",
   "execution_count": 68,
   "id": "db7f3dbc-74bb-4c9b-a4b8-144d2171f953",
   "metadata": {},
   "outputs": [],
   "source": [
    "class MainStrategy(Strategy):\n",
    "    reward_on_risk = 6\n",
    "    def init(self):\n",
    "        self._broker._cash = 1500\n",
    "        super().init()\n",
    "\n",
    "    def next(self):\n",
    "        super().next()\n",
    "        _time = self.data.index\n",
    "        current_time = _time[-1]\n",
    "        if current_time.hour == 14 and current_time.minute >= 25:\n",
    "            if self.position.is_long or self.position.is_short:\n",
    "                self.position.close()\n",
    "            return\n",
    "\n",
    "        if self.position:\n",
    "            return \n",
    "        short_signal = self.data.SM_Reversal_to_short[-1]\n",
    "        long_signal = self.data.SM_Reversal_to_long[-1]\n",
    "        close_price = self.data.Close[-1]\n",
    "        open_price = self.data.Open[-1]\n",
    "        if short_signal == True:\n",
    "            sell_price = close_price\n",
    "            sl = sell_price + 3\n",
    "            tp = sell_price - self.reward_on_risk * 3\n",
    "            self.sell(size=1, sl=sl, tp=tp)\n",
    "        elif long_signal == True:\n",
    "            buy_price = close_price\n",
    "            sl = buy_price - 3\n",
    "            tp = buy_price + self.reward_on_risk * 3\n",
    "            self.buy(size=1, sl=sl, tp=tp)"
   ]
  },
  {
   "cell_type": "code",
   "execution_count": 69,
   "id": "10c4de5d-763d-44b7-a89b-ed16e9a37b9a",
   "metadata": {},
   "outputs": [],
   "source": [
    "bt = Backtest(prepared_data, MainStrategy, commission=.0003, exclusive_orders=True)\n",
    "stats = bt.run()"
   ]
  },
  {
   "cell_type": "code",
   "execution_count": 70,
   "id": "9d3922c4-4ce6-4d88-b8fa-3967fe2dcdbb",
   "metadata": {},
   "outputs": [
    {
     "data": {
      "text/plain": [
       "Start                     2020-11-02 09:00:00\n",
       "End                       2025-02-25 14:45:00\n",
       "Duration                   1576 days 05:45:00\n",
       "Exposure Time [%]                   19.316545\n",
       "Equity Final [$]                   2584.34331\n",
       "Equity Peak [$]                    2607.43932\n",
       "Return [%]                          72.289554\n",
       "Buy & Hold Return [%]               51.072103\n",
       "Return (Ann.) [%]                   13.587887\n",
       "Volatility (Ann.) [%]                5.112059\n",
       "Sharpe Ratio                         2.658007\n",
       "Sortino Ratio                        7.402227\n",
       "Calmar Ratio                         3.563173\n",
       "Max. Drawdown [%]                   -3.813424\n",
       "Avg. Drawdown [%]                   -0.254089\n",
       "Max. Drawdown Duration      176 days 23:55:00\n",
       "Avg. Drawdown Duration        4 days 11:06:00\n",
       "# Trades                                  854\n",
       "Win Rate [%]                        43.911007\n",
       "Best Trade [%]                       1.878676\n",
       "Worst Trade [%]                     -0.451433\n",
       "Avg. Trade [%]                       0.105735\n",
       "Max. Trade Duration           0 days 05:25:00\n",
       "Avg. Trade Duration           0 days 01:22:00\n",
       "Profit Factor                        1.771219\n",
       "Expectancy [%]                        0.10706\n",
       "SQN                                  5.956112\n",
       "Kelly Criterion                      0.186675\n",
       "_strategy                        MainStrategy\n",
       "_equity_curve                             ...\n",
       "_trades                        Size  Entry...\n",
       "dtype: object"
      ]
     },
     "execution_count": 70,
     "metadata": {},
     "output_type": "execute_result"
    }
   ],
   "source": [
    "stats"
   ]
  },
  {
   "cell_type": "code",
   "execution_count": 71,
   "id": "7c8c061d-39bb-4e58-b7ea-44f3ab16e42b",
   "metadata": {},
   "outputs": [
    {
     "data": {
      "text/html": [
       "<div>\n",
       "<style scoped>\n",
       "    .dataframe tbody tr th:only-of-type {\n",
       "        vertical-align: middle;\n",
       "    }\n",
       "\n",
       "    .dataframe tbody tr th {\n",
       "        vertical-align: top;\n",
       "    }\n",
       "\n",
       "    .dataframe thead th {\n",
       "        text-align: right;\n",
       "    }\n",
       "</style>\n",
       "<table border=\"1\" class=\"dataframe\">\n",
       "  <thead>\n",
       "    <tr style=\"text-align: right;\">\n",
       "      <th></th>\n",
       "      <th>Size</th>\n",
       "      <th>EntryBar</th>\n",
       "      <th>ExitBar</th>\n",
       "      <th>EntryPrice</th>\n",
       "      <th>ExitPrice</th>\n",
       "      <th>PnL</th>\n",
       "      <th>ReturnPct</th>\n",
       "      <th>EntryTime</th>\n",
       "      <th>ExitTime</th>\n",
       "      <th>Tag</th>\n",
       "      <th>Duration</th>\n",
       "    </tr>\n",
       "  </thead>\n",
       "  <tbody>\n",
       "    <tr>\n",
       "      <th>0</th>\n",
       "      <td>1</td>\n",
       "      <td>135</td>\n",
       "      <td>151</td>\n",
       "      <td>912.87378</td>\n",
       "      <td>913.5</td>\n",
       "      <td>0.62622</td>\n",
       "      <td>0.000686</td>\n",
       "      <td>2020-11-04 13:10:00</td>\n",
       "      <td>2020-11-04 14:30:00</td>\n",
       "      <td>None</td>\n",
       "      <td>0 days 01:20:00</td>\n",
       "    </tr>\n",
       "    <tr>\n",
       "      <th>1</th>\n",
       "      <td>1</td>\n",
       "      <td>165</td>\n",
       "      <td>201</td>\n",
       "      <td>915.27450</td>\n",
       "      <td>912.1</td>\n",
       "      <td>-3.17450</td>\n",
       "      <td>-0.003468</td>\n",
       "      <td>2020-11-05 10:00:00</td>\n",
       "      <td>2020-11-05 14:25:00</td>\n",
       "      <td>None</td>\n",
       "      <td>0 days 04:25:00</td>\n",
       "    </tr>\n",
       "    <tr>\n",
       "      <th>2</th>\n",
       "      <td>1</td>\n",
       "      <td>389</td>\n",
       "      <td>398</td>\n",
       "      <td>918.97561</td>\n",
       "      <td>915.7</td>\n",
       "      <td>-3.27561</td>\n",
       "      <td>-0.003564</td>\n",
       "      <td>2020-11-11 13:05:00</td>\n",
       "      <td>2020-11-11 13:50:00</td>\n",
       "      <td>None</td>\n",
       "      <td>0 days 00:45:00</td>\n",
       "    </tr>\n",
       "    <tr>\n",
       "      <th>3</th>\n",
       "      <td>-1</td>\n",
       "      <td>402</td>\n",
       "      <td>404</td>\n",
       "      <td>914.92544</td>\n",
       "      <td>918.0</td>\n",
       "      <td>-3.07456</td>\n",
       "      <td>-0.003360</td>\n",
       "      <td>2020-11-11 14:10:00</td>\n",
       "      <td>2020-11-11 14:20:00</td>\n",
       "      <td>None</td>\n",
       "      <td>0 days 00:10:00</td>\n",
       "    </tr>\n",
       "    <tr>\n",
       "      <th>4</th>\n",
       "      <td>1</td>\n",
       "      <td>446</td>\n",
       "      <td>457</td>\n",
       "      <td>922.97681</td>\n",
       "      <td>926.5</td>\n",
       "      <td>3.52319</td>\n",
       "      <td>0.003817</td>\n",
       "      <td>2020-11-12 13:35:00</td>\n",
       "      <td>2020-11-12 14:30:00</td>\n",
       "      <td>None</td>\n",
       "      <td>0 days 00:55:00</td>\n",
       "    </tr>\n",
       "    <tr>\n",
       "      <th>...</th>\n",
       "      <td>...</td>\n",
       "      <td>...</td>\n",
       "      <td>...</td>\n",
       "      <td>...</td>\n",
       "      <td>...</td>\n",
       "      <td>...</td>\n",
       "      <td>...</td>\n",
       "      <td>...</td>\n",
       "      <td>...</td>\n",
       "      <td>...</td>\n",
       "      <td>...</td>\n",
       "    </tr>\n",
       "    <tr>\n",
       "      <th>849</th>\n",
       "      <td>-1</td>\n",
       "      <td>54299</td>\n",
       "      <td>54327</td>\n",
       "      <td>1330.00088</td>\n",
       "      <td>1332.4</td>\n",
       "      <td>-2.39912</td>\n",
       "      <td>-0.001804</td>\n",
       "      <td>2025-02-11 10:45:00</td>\n",
       "      <td>2025-02-11 14:30:00</td>\n",
       "      <td>None</td>\n",
       "      <td>0 days 03:45:00</td>\n",
       "    </tr>\n",
       "    <tr>\n",
       "      <th>850</th>\n",
       "      <td>1</td>\n",
       "      <td>54447</td>\n",
       "      <td>54467</td>\n",
       "      <td>1346.30377</td>\n",
       "      <td>1342.9</td>\n",
       "      <td>-3.40377</td>\n",
       "      <td>-0.002528</td>\n",
       "      <td>2025-02-14 10:20:00</td>\n",
       "      <td>2025-02-14 13:25:00</td>\n",
       "      <td>None</td>\n",
       "      <td>0 days 03:05:00</td>\n",
       "    </tr>\n",
       "    <tr>\n",
       "      <th>851</th>\n",
       "      <td>-1</td>\n",
       "      <td>54518</td>\n",
       "      <td>54531</td>\n",
       "      <td>1340.99758</td>\n",
       "      <td>1336.0</td>\n",
       "      <td>4.99758</td>\n",
       "      <td>0.003727</td>\n",
       "      <td>2025-02-17 13:25:00</td>\n",
       "      <td>2025-02-17 14:30:00</td>\n",
       "      <td>None</td>\n",
       "      <td>0 days 01:05:00</td>\n",
       "    </tr>\n",
       "    <tr>\n",
       "      <th>852</th>\n",
       "      <td>1</td>\n",
       "      <td>54628</td>\n",
       "      <td>54633</td>\n",
       "      <td>1343.40290</td>\n",
       "      <td>1345.1</td>\n",
       "      <td>1.69710</td>\n",
       "      <td>0.001263</td>\n",
       "      <td>2025-02-19 14:05:00</td>\n",
       "      <td>2025-02-19 14:30:00</td>\n",
       "      <td>None</td>\n",
       "      <td>0 days 00:25:00</td>\n",
       "    </tr>\n",
       "    <tr>\n",
       "      <th>853</th>\n",
       "      <td>-1</td>\n",
       "      <td>54798</td>\n",
       "      <td>54837</td>\n",
       "      <td>1364.89041</td>\n",
       "      <td>1362.0</td>\n",
       "      <td>2.89041</td>\n",
       "      <td>0.002118</td>\n",
       "      <td>2025-02-25 09:50:00</td>\n",
       "      <td>2025-02-25 14:30:00</td>\n",
       "      <td>None</td>\n",
       "      <td>0 days 04:40:00</td>\n",
       "    </tr>\n",
       "  </tbody>\n",
       "</table>\n",
       "<p>854 rows × 11 columns</p>\n",
       "</div>"
      ],
      "text/plain": [
       "     Size  EntryBar  ExitBar  EntryPrice  ExitPrice      PnL  ReturnPct  \\\n",
       "0       1       135      151   912.87378      913.5  0.62622   0.000686   \n",
       "1       1       165      201   915.27450      912.1 -3.17450  -0.003468   \n",
       "2       1       389      398   918.97561      915.7 -3.27561  -0.003564   \n",
       "3      -1       402      404   914.92544      918.0 -3.07456  -0.003360   \n",
       "4       1       446      457   922.97681      926.5  3.52319   0.003817   \n",
       "..    ...       ...      ...         ...        ...      ...        ...   \n",
       "849    -1     54299    54327  1330.00088     1332.4 -2.39912  -0.001804   \n",
       "850     1     54447    54467  1346.30377     1342.9 -3.40377  -0.002528   \n",
       "851    -1     54518    54531  1340.99758     1336.0  4.99758   0.003727   \n",
       "852     1     54628    54633  1343.40290     1345.1  1.69710   0.001263   \n",
       "853    -1     54798    54837  1364.89041     1362.0  2.89041   0.002118   \n",
       "\n",
       "              EntryTime            ExitTime   Tag        Duration  \n",
       "0   2020-11-04 13:10:00 2020-11-04 14:30:00  None 0 days 01:20:00  \n",
       "1   2020-11-05 10:00:00 2020-11-05 14:25:00  None 0 days 04:25:00  \n",
       "2   2020-11-11 13:05:00 2020-11-11 13:50:00  None 0 days 00:45:00  \n",
       "3   2020-11-11 14:10:00 2020-11-11 14:20:00  None 0 days 00:10:00  \n",
       "4   2020-11-12 13:35:00 2020-11-12 14:30:00  None 0 days 00:55:00  \n",
       "..                  ...                 ...   ...             ...  \n",
       "849 2025-02-11 10:45:00 2025-02-11 14:30:00  None 0 days 03:45:00  \n",
       "850 2025-02-14 10:20:00 2025-02-14 13:25:00  None 0 days 03:05:00  \n",
       "851 2025-02-17 13:25:00 2025-02-17 14:30:00  None 0 days 01:05:00  \n",
       "852 2025-02-19 14:05:00 2025-02-19 14:30:00  None 0 days 00:25:00  \n",
       "853 2025-02-25 09:50:00 2025-02-25 14:30:00  None 0 days 04:40:00  \n",
       "\n",
       "[854 rows x 11 columns]"
      ]
     },
     "execution_count": 71,
     "metadata": {},
     "output_type": "execute_result"
    }
   ],
   "source": [
    "stats['_trades']"
   ]
  },
  {
   "cell_type": "code",
   "execution_count": 72,
   "id": "ef98ecd0-8060-4a2c-acd9-9b206633c787",
   "metadata": {},
   "outputs": [],
   "source": [
    "# bt.plot()"
   ]
  },
  {
   "cell_type": "code",
   "execution_count": 73,
   "id": "d6162998-c2bc-45df-81a8-4e784a8df109",
   "metadata": {},
   "outputs": [
    {
     "data": {
      "image/png": "[encoded data removed]",
      "text/plain": [
       "<Figure size 1440x720 with 1 Axes>"
      ]
     },
     "metadata": {},
     "output_type": "display_data"
    }
   ],
   "source": [
    "copy_trades = stats['_trades'].copy()\n",
    "copy_trades['cum_sum'] = copy_trades['PnL'].cumsum()\n",
    "X = np.array(range(0, len(copy_trades['cum_sum'])))\n",
    "Y = copy_trades['cum_sum']\n",
    "# Plotting the Graph\n",
    "plt.plot(X, Y)\n",
    "plt.title(\"Curve plotted for returns\")\n",
    "plt.xlabel(\"X\")\n",
    "plt.ylabel(\"Rerurns\")\n",
    "plt.show()"
   ]
  },
  {
   "cell_type": "code",
   "execution_count": 74,
   "id": "469efe2c-07ac-404f-976d-73af2ac2a8db",
   "metadata": {},
   "outputs": [
    {
     "data": {
      "text/plain": [
       "18.300579999999854"
      ]
     },
     "execution_count": 74,
     "metadata": {},
     "output_type": "execute_result"
    }
   ],
   "source": [
    "copy_trades['PnL'].max()"
   ]
  },
  {
   "cell_type": "code",
   "execution_count": 75,
   "id": "ca3cd10a-a386-4526-a5e5-69dfca657509",
   "metadata": {},
   "outputs": [
    {
     "data": {
      "text/plain": [
       "-6.21300999999994"
      ]
     },
     "execution_count": 75,
     "metadata": {},
     "output_type": "execute_result"
    }
   ],
   "source": [
    "copy_trades['PnL'].min()"
   ]
  },
  {
   "cell_type": "code",
   "execution_count": 76,
   "id": "52d5fb75-5b02-4f75-812e-9ed2e05c1087",
   "metadata": {},
   "outputs": [
    {
     "data": {
      "text/plain": [
       "3.4878100000000813"
      ]
     },
     "execution_count": 76,
     "metadata": {},
     "output_type": "execute_result"
    }
   ],
   "source": [
    "copy_trades[copy_trades.EntryTime > '2025-02-01 00:00:00']['PnL'].sum()"
   ]
  },
  {
   "cell_type": "code",
   "execution_count": null,
   "id": "495d5b82-2cd3-4033-b9b1-665162047960",
   "metadata": {},
   "outputs": [],
   "source": []
  }
 ],
 "metadata": {
  "kernelspec": {
   "display_name": "Python 3 (ipykernel)",
   "language": "python",
   "name": "python3"
  },
  "language_info": {
   "codemirror_mode": {
    "name": "ipython",
    "version": 3
   },
   "file_extension": ".py",
   "mimetype": "text/x-python",
   "name": "python",
   "nbconvert_exporter": "python",
   "pygments_lexer": "ipython3",
   "version": "3.11.4"
  }
 },
 "nbformat": 4,
 "nbformat_minor": 5
}
